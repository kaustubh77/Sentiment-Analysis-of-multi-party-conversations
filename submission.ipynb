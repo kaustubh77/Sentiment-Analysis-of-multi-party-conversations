{
 "cells": [
  {
   "cell_type": "code",
   "execution_count": 5,
   "metadata": {},
   "outputs": [],
   "source": [
    "import numpy as np\n",
    "import pandas as pd\n",
    "import keras\n",
    "from numpy import array\n",
    "from keras.preprocessing.text import one_hot\n",
    "from keras.preprocessing.sequence import pad_sequences\n",
    "from keras.models import Sequential\n",
    "from keras.layers import Flatten\n",
    "import os\n",
    "\n",
    "from sklearn.feature_extraction.text import CountVectorizer\n",
    "from keras.preprocessing.text import Tokenizer\n",
    "from keras.models import Model\n",
    "from keras.layers import Dense, Embedding, LSTM, Input\n",
    "from sklearn.model_selection import train_test_split\n",
    "from keras.utils.np_utils import to_categorical\n",
    "import re\n",
    "from keras.layers.embeddings import Embedding\n",
    "import pickle\n",
    "\n",
    "with open('./tokenizer.pickle','rb') as handle:\n",
    "    tokenizer=pickle.load(handle)"
   ]
  },
  {
   "cell_type": "code",
   "execution_count": 6,
   "metadata": {},
   "outputs": [],
   "source": [
    "data0=pd.read_csv('./test.csv')\n",
    "pd.set_option('display.max_colwidth',-1)\n",
    "X1 = tokenizer.texts_to_sequences(data0['Scene'].values)\n",
    "\n",
    "max_length_of_text=200\n",
    "\n",
    "X1 = pad_sequences(X1, maxlen=max_length_of_text)"
   ]
  },
  {
   "cell_type": "code",
   "execution_count": 7,
   "metadata": {},
   "outputs": [],
   "source": [
    "from keras.models import load_model\n",
    "model = load_model('./model.h5')\n",
    "\n",
    "batch_size=32\n",
    "\n",
    "\n",
    "dic = {\n",
    "    0:'POSTIVE',\n",
    "    1:'NEGATIVE',\n",
    "    2:'MIXED',\n",
    "    3:'NEUTRAL'\n",
    "}\n",
    "\n",
    "preds = model.predict(X1, batch_size=batch_size)\n",
    "preds = np.argmax(preds, axis=1)\n",
    "\n",
    "preds = [ dic.get( preds[index] )   for index in range(len(preds)) ]\n",
    "\n"
   ]
  },
  {
   "cell_type": "code",
   "execution_count": 8,
   "metadata": {},
   "outputs": [],
   "source": [
    "new_df=pd.DataFrame({\"Index\":[i+1 for i in range(len(preds))],\"Sentiment\":preds})\n",
    "new_df.to_csv(\"./solution.csv\",index=False)"
   ]
  },
  {
   "cell_type": "code",
   "execution_count": null,
   "metadata": {},
   "outputs": [],
   "source": []
  }
 ],
 "metadata": {
  "kernelspec": {
   "display_name": "Python 3",
   "language": "python",
   "name": "python3"
  },
  "language_info": {
   "codemirror_mode": {
    "name": "ipython",
    "version": 3
   },
   "file_extension": ".py",
   "mimetype": "text/x-python",
   "name": "python",
   "nbconvert_exporter": "python",
   "pygments_lexer": "ipython3",
   "version": "3.6.5"
  }
 },
 "nbformat": 4,
 "nbformat_minor": 2
}
